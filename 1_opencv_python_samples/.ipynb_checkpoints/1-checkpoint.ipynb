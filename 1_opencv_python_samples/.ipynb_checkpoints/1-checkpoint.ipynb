{
 "cells": [
  {
   "cell_type": "code",
   "execution_count": 1,
   "metadata": {},
   "outputs": [],
   "source": [
    "import cv2 as cv"
   ]
  },
  {
   "cell_type": "code",
   "execution_count": 2,
   "metadata": {},
   "outputs": [
    {
     "name": "stdout",
     "output_type": "stream",
     "text": [
      "1\n",
      "0\n",
      "-1\n"
     ]
    }
   ],
   "source": [
    "print(cv.IMREAD_COLOR) # Loads a color image. Any transparency of image will be neglected. It is the default flag.\n",
    "print(cv.IMREAD_GRAYSCALE) # Loads image in grayscale mode\n",
    "print(cv.IMREAD_UNCHANGED) #Loads image as such including alpha channel"
   ]
  },
  {
   "cell_type": "code",
   "execution_count": 3,
   "metadata": {},
   "outputs": [],
   "source": [
    "img = cv.imread('demo.jpg', cv.IMREAD_GRAYSCALE)"
   ]
  },
  {
   "cell_type": "code",
   "execution_count": 4,
   "metadata": {},
   "outputs": [
    {
     "name": "stdout",
     "output_type": "stream",
     "text": [
      "[[[ 98  92  97]\n",
      "  [ 98  92  97]\n",
      "  [ 99  93  98]\n",
      "  ...\n",
      "  [103  95  96]\n",
      "  [103  95  96]\n",
      "  [102  94  95]]\n",
      "\n",
      " [[ 98  92  97]\n",
      "  [ 98  92  97]\n",
      "  [ 99  93  98]\n",
      "  ...\n",
      "  [102  95  98]\n",
      "  [102  96  97]\n",
      "  [101  95  96]]\n",
      "\n",
      " [[ 98  92  97]\n",
      "  [ 98  92  97]\n",
      "  [ 99  93  98]\n",
      "  ...\n",
      "  [100  93  96]\n",
      "  [ 99  92  95]\n",
      "  [ 98  91  94]]\n",
      "\n",
      " ...\n",
      "\n",
      " [[ 95  87  88]\n",
      "  [ 96  88  89]\n",
      "  [ 96  88  89]\n",
      "  ...\n",
      "  [126  94  89]\n",
      "  [114  92  94]\n",
      "  [109  94  98]]\n",
      "\n",
      " [[ 95  87  88]\n",
      "  [ 96  88  89]\n",
      "  [ 97  89  90]\n",
      "  ...\n",
      "  [ 96  98  92]\n",
      "  [ 86  97  95]\n",
      "  [ 83  98 100]]\n",
      "\n",
      " [[ 96  88  89]\n",
      "  [ 96  88  89]\n",
      "  [ 97  89  90]\n",
      "  ...\n",
      "  [ 84  98  92]\n",
      "  [ 77  98  96]\n",
      "  [ 77 100 102]]]\n"
     ]
    }
   ],
   "source": [
    "print(img)"
   ]
  },
  {
   "cell_type": "code",
   "execution_count": 5,
   "metadata": {},
   "outputs": [],
   "source": [
    "# mostrar imagen..\n",
    "# cv.imshow('image',img)\n",
    "# cv.waitKey(0)\n",
    "# cv.destroyAllWindows()"
   ]
  }
 ],
 "metadata": {
  "kernelspec": {
   "display_name": "Python 2",
   "language": "python",
   "name": "python2"
  },
  "language_info": {
   "codemirror_mode": {
    "name": "ipython",
    "version": 2
   },
   "file_extension": ".py",
   "mimetype": "text/x-python",
   "name": "python",
   "nbconvert_exporter": "python",
   "pygments_lexer": "ipython2",
   "version": "2.7.10"
  }
 },
 "nbformat": 4,
 "nbformat_minor": 2
}
