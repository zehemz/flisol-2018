{
 "cells": [
  {
   "cell_type": "code",
   "execution_count": 2,
   "metadata": {},
   "outputs": [],
   "source": [
    "import cv2 as cv\n",
    "#Tipos de carga de imagen\n",
    "print(cv.IMREAD_COLOR) # tipo por defecto, se elimina alpha channel\n",
    "print(cv.IMREAD_GRAYSCALE) # Loads image in grayscale mode\n",
    "print(cv.IMREAD_UNCHANGED) # carga la imagen con canal alpha\n",
    "\n",
    "img = cv.imread('demo.jpg', cv.IMREAD_GRAYSCALE)\n",
    "print(img)\n",
    "\n",
    "# mostrar imagen..\n",
    "cv.imshow('image',img)\n",
    "cv.waitKey(0)\n",
    "cv.destroyAllWindows()"
   ]
  }
 ],
 "metadata": {
  "kernelspec": {
   "display_name": "Python 2",
   "language": "python",
   "name": "python2"
  },
  "language_info": {
   "codemirror_mode": {
    "name": "ipython",
    "version": 2
   },
   "file_extension": ".py",
   "mimetype": "text/x-python",
   "name": "python",
   "nbconvert_exporter": "python",
   "pygments_lexer": "ipython2",
   "version": "2.7.14"
  }
 },
 "nbformat": 4,
 "nbformat_minor": 2
}
